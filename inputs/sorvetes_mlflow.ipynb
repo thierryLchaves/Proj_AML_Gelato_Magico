{
 "cells": [
  {
   "cell_type": "markdown",
   "id": "750d57fa",
   "metadata": {},
   "source": [
    "# Executar um script de treinamento com SDK do Python"
   ]
  },
  {
   "cell_type": "code",
   "execution_count": null,
   "id": "aba3614b",
   "metadata": {},
   "outputs": [],
   "source": [
    "pip show azure-ai-ml"
   ]
  },
  {
   "cell_type": "code",
   "execution_count": null,
   "id": "625086c1",
   "metadata": {},
   "outputs": [],
   "source": [
    "from azure.identity import DefaultAzureCredential, InteractiveBrowserCredential\n",
    "from azure.ai.ml import MLClient\n",
    "\n",
    "try:\n",
    "    credential = DefaultAzureCredential()\n",
    "    # Check if given credential can get token successfully.\n",
    "    credential.get_token(\"https://management.azure.com/.default\")\n",
    "except Exception as ex:\n",
    "    # Fall back to InteractiveBrowserCredential in case DefaultAzureCredential not work\n",
    "    credential = InteractiveBrowserCredential()"
   ]
  },
  {
   "cell_type": "code",
   "execution_count": null,
   "id": "c9f8cf8a",
   "metadata": {},
   "outputs": [],
   "source": [
    "# Get a handle to workspace\n",
    "ml_client = MLClient.from_config(credential=credential)"
   ]
  },
  {
   "cell_type": "code",
   "execution_count": null,
   "id": "3d6bbe48",
   "metadata": {},
   "outputs": [],
   "source": [
    "pip show mlflow"
   ]
  },
  {
   "cell_type": "code",
   "execution_count": null,
   "id": "3d8deabf",
   "metadata": {},
   "outputs": [],
   "source": [
    "import pandas as pd \n",
    "print(\"Reading data...\")\n",
    "df = pd.read_csv('./Projeto_Gelato_sorvetes/dados/sorvetes_magico.csv')\n",
    "df.columns = df.columns.str.strip() \n",
    "df['Data'] = pd.to_datetime(df['Data'])\n",
    "df.head()"
   ]
  },
  {
   "cell_type": "code",
   "execution_count": null,
   "id": "399eacef",
   "metadata": {},
   "outputs": [],
   "source": [
    "print('Splitting data..')\n",
    "X = df[['Temperatura']]\n",
    "y = df[['Vendas']]"
   ]
  },
  {
   "cell_type": "code",
   "execution_count": null,
   "id": "a5de64cc",
   "metadata": {},
   "outputs": [],
   "source": [
    "from sklearn.model_selection import train_test_split\n",
    "X_train, X_test, y_train, y_test = train_test_split(X,y, test_size=0.30,random_state=0)"
   ]
  },
  {
   "cell_type": "code",
   "execution_count": null,
   "id": "37d5db41",
   "metadata": {},
   "outputs": [],
   "source": [
    "from sklearn.model_selection import train_test_split\n",
    "X_train, X_test, y_train, y_test = train_test_split(X,y, test_size=0.3, random_state=0)"
   ]
  },
  {
   "cell_type": "code",
   "execution_count": null,
   "id": "75382ee4",
   "metadata": {},
   "outputs": [],
   "source": [
    "import mlflow\n",
    "experiment_name = 'regressao_vendas_sorvete'\n",
    "mlflow.set_experiment(experiment_name)"
   ]
  },
  {
   "cell_type": "code",
   "execution_count": null,
   "id": "ef0d9824",
   "metadata": {},
   "outputs": [],
   "source": [
    "mlflow.sklearn.autolog(disable=True)"
   ]
  },
  {
   "cell_type": "code",
   "execution_count": null,
   "id": "7b5aadd1",
   "metadata": {},
   "outputs": [],
   "source": [
    "from sklearn.linear_model import LinearRegression\n",
    "from sklearn.metrics import mean_squared_error, r2_score\n",
    "import matplotlib.pyplot as plt\n",
    "\n",
    "with mlflow.start_run():\n",
    "    mlflow.sklearn.autolog() \n",
    "\n",
    "    model = LinearRegression().fit(X_train, y_train)\n",
    "    y_pred = model.predict(X_test)\n",
    "\n",
    "    mse = mean_squared_error(y_test, y_pred)\n",
    "    r2 = r2_score(y_test, y_pred)\n",
    "\n",
    "    mlflow.log_metric(\"mse\",mse)\n",
    "    mlflow.log_metric(\"r2\",r2)\n",
    "    \n",
    "    plt.figure(figsize=(6, 4))\n",
    "    plt.scatter(X_test, y_test, color='blue', label='Vendas reais')\n",
    "    plt.plot(X_test, y_pred, color='red', linewidth=2, label='Previsão')\n",
    "    plt.xlabel('Temperatura')\n",
    "    plt.ylabel('Vendas')\n",
    "    plt.title('Regressão Linear')\n",
    "    plt.legend()\n",
    "    plt.tight_layout()\n",
    "    plt.savefig(\"regressao.png\")\n",
    "\n",
    "    # 8. Logar imagem no MLflow\n",
    "    mlflow.log_artifact(\"regressao.png\")\n",
    "\n",
    "    print(f\"MSE: {mse:.2f}\")\n",
    "    print(f\"R²: {r2:.2f}\")"
   ]
  }
 ],
 "metadata": {
  "kernelspec": {
   "display_name": ".venv",
   "language": "python",
   "name": "python3"
  },
  "language_info": {
   "name": "python",
   "version": "3.12.7"
  }
 },
 "nbformat": 4,
 "nbformat_minor": 5
}
