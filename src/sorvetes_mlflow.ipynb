{
 "cells": [
  {
   "cell_type": "markdown",
   "id": "750d57fa",
   "metadata": {},
   "source": [
    "# Executar um script de treinamento com SDK do Python"
   ]
  },
  {
   "cell_type": "code",
   "execution_count": null,
   "id": "aba3614b",
   "metadata": {},
   "outputs": [],
   "source": [
    "pip show azure-ai-ml"
   ]
  },
  {
   "cell_type": "code",
   "execution_count": null,
   "id": "625086c1",
   "metadata": {},
   "outputs": [],
   "source": [
    "from azure.identity import DefaultAzureCredential, InteractiveBrowserCredential\n",
    "from azure.ai.ml import MLClient\n",
    "\n",
    "try:\n",
    "    credential = DefaultAzureCredential()\n",
    "    # Check if given credential can get token successfully.\n",
    "    credential.get_token(\"https://management.azure.com/.default\")\n",
    "except Exception as ex:\n",
    "    # Fall back to InteractiveBrowserCredential in case DefaultAzureCredential not work\n",
    "    credential = InteractiveBrowserCredential()"
   ]
  },
  {
   "cell_type": "code",
   "execution_count": null,
   "id": "c9f8cf8a",
   "metadata": {},
   "outputs": [],
   "source": [
    "# Get a handle to workspace\n",
    "ml_client = MLClient.from_config(credential=credential)"
   ]
  },
  {
   "cell_type": "code",
   "execution_count": null,
   "id": "7b5aadd1",
   "metadata": {},
   "outputs": [],
   "source": [
    "%%writefile src/sorvetes_training.py\n",
    "\n",
    "import argparse\n",
    "import pandas as pd\n",
    "import numpy as np\n",
    "from sklearn.model_selection import train_test_split\n",
    "from sklearn.linear_model import LogisticRegression\n",
    "from sklearn.metrics import roc_auc_score\n",
    "\n",
    "# Argumento de entrada\n",
    "parser = argparse.ArgumentParser()\n",
    "parser.add_argument(\"--data_file\", type=str, help=\"Path to the CSV data file\")\n",
    "args = parser.parse_args()\n",
    "\n",
    "# Carregamento dos dados\n",
    "print(\"Loading Data ...\")\n",
    "sorvetes = pd.read_csv(args.data_file)\n",
    "\n",
    "# Separar features e labels\n",
    "X, y = sorvetes[['Temperatura']].values, sorvetes['Vendas'].values\n",
    "\n",
    "# Separar treino e teste\n",
    "X_train, X_test, y_train, y_test = train_test_split(X, y, test_size=0.20, random_state=0)\n",
    "\n",
    "# Hiperparâmetro\n",
    "reg = 0.01\n",
    "\n",
    "# Treinamento\n",
    "print('Training a logistic regression model with regularization rate of', reg)\n",
    "model = LogisticRegression(C=1/reg, solver=\"liblinear\").fit(X_train, y_train)\n",
    "\n",
    "# Acurácia\n",
    "y_hat = model.predict(X_test)\n",
    "acc = np.average(y_hat == y_test)\n",
    "print('Accuracy:', acc)\n",
    "\n",
    "# AUC\n",
    "y_scores = model.predict_proba(X_test)\n",
    "auc = roc_auc_score(y_test, y_scores[:, 1])\n",
    "print('AUC:', auc)"
   ]
  },
  {
   "cell_type": "code",
   "execution_count": null,
   "id": "02caac0c",
   "metadata": {},
   "outputs": [],
   "source": [
    "from azure.ai.ml import command\n",
    "from azure.ai.ml import Input\n",
    "from datetime import datetime\n",
    "\n",
    "\n",
    "data_input = Input(\n",
    "    path=\"./dados/sorvetes_magico.csv\",  # caminho local do arquivo\n",
    "    type=\"uri_file\"\n",
    ")\n",
    "\n",
    "job = command(\n",
    "    name = f\"treinamento-sorvetes-{datetime.now().strftime('%Y%m%d%H%M%S')}\",\n",
    "    code=\"./src\",\n",
    "    command=\"python sorvetes_training.py --data_file ${{inputs.data_input}}\",\n",
    "    inputs={\"data_input\": data_input},\n",
    "    environment=\"AzureML-sklearn-1.0-ubuntu20.04-py38-cpu:1\",\n",
    "    compute=\"cpu-geleto-instance\",\n",
    "    experiment_name=\"sorvetes-training\"\n",
    ")\n",
    "\n",
    "# submit job\n",
    "returned_job = ml_client.create_or_update(job)\n",
    "aml_url = returned_job.studio_url\n",
    "print(\"Monitor your job at\", aml_url)"
   ]
  }
 ],
 "metadata": {
  "kernelspec": {
   "display_name": ".venv",
   "language": "python",
   "name": "python3"
  },
  "language_info": {
   "name": "python",
   "version": "3.12.7"
  }
 },
 "nbformat": 4,
 "nbformat_minor": 5
}
